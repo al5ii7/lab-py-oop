{
  "cells": [
    {
      "cell_type": "markdown",
      "metadata": {
        "id": "EPFPybBSLK8P"
      },
      "source": [
        "# LAB | Object-Oriented Programming (OOP) in Python"
      ]
    },
    {
      "cell_type": "markdown",
      "metadata": {
        "id": "nV4QtFTYLK8R"
      },
      "source": [
        "## Overview\n",
        "This exercise notebook will help you practice Object-Oriented Programming concepts in Python. You will create classes, instantiate objects, and use inheritance to build more complex structures.\n",
        "\n",
        "## Instructions\n",
        "- Complete each exercise by writing the appropriate code in the provided space.\n",
        "- Test your code to ensure it works as expected.\n",
        "- Use the hints provided if you get stuck."
      ]
    },
    {
      "cell_type": "markdown",
      "metadata": {
        "id": "culfxU4_LK8S"
      },
      "source": [
        "### Exercise 1: Create a Class with Instance Attributes\n",
        "Write a Python program to create a `Vehicle` class with `max_speed` and `mileage` instance attributes."
      ]
    },
    {
      "cell_type": "code",
      "execution_count": 1,
      "metadata": {
        "colab": {
          "base_uri": "https://localhost:8080/"
        },
        "id": "rXqMEkcPLK8T",
        "outputId": "764d7be4-1db8-4b82-8eb3-1be15cd470db"
      },
      "outputs": [
        {
          "name": "stdout",
          "output_type": "stream",
          "text": [
            "240 18\n"
          ]
        }
      ],
      "source": [
        "class Vehicle:\n",
        "    def __init__(self, max_speed, mileage):\n",
        "        '''\n",
        "        Constructor method to initialize instance attributes.\n",
        "\n",
        "        Parameters:\n",
        "        max_speed (int or float): Maximum speed of the vehicle.\n",
        "        mileage (int or float): Mileage of the vehicle.\n",
        "        '''\n",
        "        self.max_speed = max_speed  # Assign max_speed to the instance attribute\n",
        "        self.mileage = mileage  # Assign mileage to the instance attribute\n",
        "\n",
        "# Example instantiation\n",
        "modelX = Vehicle(240, 18)  # Create an instance of Vehicle with max_speed=240 and mileage=18\n",
        "\n",
        "# Print attributes\n",
        "print(modelX.max_speed, modelX.mileage)"
      ]
    },
    {
      "cell_type": "markdown",
      "metadata": {
        "id": "UMUJXqNPLK8X"
      },
      "source": [
        "### Exercise 2: Create a Vehicle Class Without Any Variables and Methods\n",
        "Create a `Vehicle` class without any variables or methods."
      ]
    },
    {
      "cell_type": "code",
      "execution_count": 2,
      "metadata": {
        "colab": {
          "base_uri": "https://localhost:8080/"
        },
        "id": "lmemyOQSLK8X",
        "outputId": "c40d27f0-f020-4cf7-93bc-da68fa05a427"
      },
      "outputs": [
        {
          "name": "stdout",
          "output_type": "stream",
          "text": [
            "<class '__main__.Vehicle'>\n"
          ]
        }
      ],
      "source": [
        "\n",
        "class Vehicle:\n",
        "    pass\n",
        "\n",
        "\n",
        "my_vehicle = Vehicle()\n",
        "print(type(my_vehicle))\n"
      ]
    },
    {
      "cell_type": "markdown",
      "metadata": {
        "id": "Z4ZPfwpfLK8Y"
      },
      "source": [
        "### Exercise 3: Create a Child Class Bus\n",
        "Create a child class `Bus` that will inherit all of the variables and methods of the `Vehicle` class."
      ]
    },
    {
      "cell_type": "code",
      "execution_count": null,
      "metadata": {
        "colab": {
          "base_uri": "https://localhost:8080/"
        },
        "id": "46bRf5nnLK8Y",
        "outputId": "ac425697-8c5c-43e1-8130-2a28531f1e20"
      },
      "outputs": [
        {
          "name": "stdout",
          "output_type": "stream",
          "text": [
            "<class '__main__.Bus'>\n"
          ]
        }
      ],
      "source": [
        "\n",
        "class Vehicle:\n",
        "    pass\n",
        "\n",
        "class Bus(Vehicle):\n",
        "    pass\n",
        "\n",
        "school_bus = Bus()\n",
        "print(type(school_bus))\n"
      ]
    },
    {
      "cell_type": "markdown",
      "metadata": {
        "id": "Qef1PJ1hLK8Z"
      },
      "source": [
        "### Exercise 4: Class Inheritance with Method Overriding\n",
        "Create a `Bus` class that inherits from the `Vehicle` class. Override the `fare()` method to include an extra charge for maintenance."
      ]
    },
    {
      "cell_type": "code",
      "execution_count": null,
      "metadata": {
        "colab": {
          "base_uri": "https://localhost:8080/"
        },
        "id": "_Lo2NTyQLK8Z",
        "outputId": "d977bbd9-fec8-4745-ac7e-0a2f12209eae"
      },
      "outputs": [
        {
          "name": "stdout",
          "output_type": "stream",
          "text": [
            "Base fare with extra charge\n"
          ]
        }
      ],
      "source": [
        "\n",
        "class Vehicle:\n",
        "    def fare(self):\n",
        "        return \"Base fare\"\n",
        "\n",
        "\n",
        "class Bus(Vehicle):\n",
        "    def fare(self):\n",
        "\n",
        "        base_fare = super().fare()\n",
        "        return f\"{base_fare} with extra charge\"\n",
        "school_bus = Bus()\n",
        "print(school_bus.fare())"
      ]
    },
    {
      "cell_type": "markdown",
      "metadata": {
        "id": "UftIVzDgLK8a"
      },
      "source": [
        "### Exercise 5: Define a Class Attribute\n",
        "Define a property that must have the same value for every class instance (object). Set a default value for `color`."
      ]
    },
    {
      "cell_type": "code",
      "execution_count": null,
      "metadata": {
        "colab": {
          "base_uri": "https://localhost:8080/"
        },
        "id": "dAF97SQ8LK8a",
        "outputId": "e8f7d922-fae9-4c23-a221-1c179140845d"
      },
      "outputs": [
        {
          "name": "stdout",
          "output_type": "stream",
          "text": [
            "White\n"
          ]
        }
      ],
      "source": [
        "# Define the Vehicle class with a class attribute\n",
        "class Vehicle:\n",
        "    color = \"White\"  # Class attribute with default value \"White\"\n",
        "\n",
        "    def __init__(self, name, max_speed, mileage):\n",
        "        '''\n",
        "        Constructor method to initialize instance attributes.\n",
        "\n",
        "        Parameters:\n",
        "        name (str): Name of the vehicle.\n",
        "        max_speed (int or float): Maximum speed of the vehicle.\n",
        "        mileage (int or float): Mileage of the vehicle.\n",
        "        '''\n",
        "        self.name = name\n",
        "        self.max_speed = max_speed\n",
        "        self.mileage = mileage\n",
        "\n",
        "# Example instantiation\n",
        "school_bus = Vehicle(\"School Volvo\", 180, 12)\n",
        "\n",
        "# Access the class attribute\n",
        "print(school_bus.color)  # Expected output: \"White\""
      ]
    },
    {
      "cell_type": "markdown",
      "metadata": {
        "id": "xVkO3UYjLK8b"
      },
      "source": [
        "### Exercise 6: Class Inheritance with Default Fare Calculation\n",
        "Create a `Bus` child class that inherits from the `Vehicle` class. The default fare charge of any vehicle is `seating capacity * 100`. If the vehicle is a bus instance, add an extra 10% on the full fare as a maintenance charge."
      ]
    },
    {
      "cell_type": "code",
      "execution_count": null,
      "metadata": {
        "colab": {
          "base_uri": "https://localhost:8080/"
        },
        "id": "Aj9PUcH3LK8b",
        "outputId": "d9d7dc94-50c3-432c-b77c-e828457a26ca"
      },
      "outputs": [
        {
          "name": "stdout",
          "output_type": "stream",
          "text": [
            "<class '__main__.Bus'>\n"
          ]
        }
      ],
      "source": [
        "# Define the Vehicle class\n",
        "class Vehicle:\n",
        "    def __init__(self, name, max_speed, mileage):\n",
        "        self.name = name\n",
        "        self.max_speed = max_speed\n",
        "        self.mileage = mileage\n",
        "\n",
        "# Define the Bus class that inherits from Vehicle\n",
        "class Bus(Vehicle):\n",
        "    pass\n",
        "\n",
        "# Create an instance of Bus\n",
        "school_bus = Bus(\"School Volvo\", 180, 12)\n",
        "\n",
        "# Check the type of the object\n",
        "print(type(school_bus))  # Expected output: <class '__main__.Bus'>"
      ]
    },
    {
      "cell_type": "markdown",
      "metadata": {
        "id": "LllLVb7eLK8b"
      },
      "source": [
        "### Exercise 7: Check Type of an Object\n",
        "Write a program to determine which class a given object belongs to."
      ]
    },
    {
      "cell_type": "code",
      "execution_count": null,
      "metadata": {
        "colab": {
          "base_uri": "https://localhost:8080/"
        },
        "id": "043zBJTmLK8b",
        "outputId": "4eae3b1b-0c71-40f7-c0c0-a24252af1caa"
      },
      "outputs": [
        {
          "name": "stdout",
          "output_type": "stream",
          "text": [
            "<class '__main__.Bus'>\n"
          ]
        }
      ],
      "source": [
        "# Define the Vehicle class\n",
        "class Vehicle:\n",
        "    def __init__(self, name, max_speed, mileage):\n",
        "        self.name = name\n",
        "        self.max_speed = max_speed\n",
        "        self.mileage = mileage\n",
        "\n",
        "# Define the Bus class that inherits from Vehicle\n",
        "class Bus(Vehicle):\n",
        "    pass\n",
        "\n",
        "# Create an instance of Bus\n",
        "school_bus = Bus(\"School Volvo\", 180, 12)\n",
        "\n",
        "# Check the type of the object\n",
        "print(type(school_bus))  # Expected output: <class '__main__.Bus'>"
      ]
    },
    {
      "cell_type": "markdown",
      "metadata": {
        "id": "3SxMx_9-LK8c"
      },
      "source": [
        "### Exercise 8: Check Instance of Class\n",
        "Determine if `school_bus` is also an instance of the `Vehicle` class.\n"
      ]
    },
    {
      "cell_type": "code",
      "execution_count": null,
      "metadata": {
        "colab": {
          "base_uri": "https://localhost:8080/"
        },
        "id": "jGIqVrYbLK8c",
        "outputId": "0d0a3f8b-9431-4f28-c788-9f8996c57462"
      },
      "outputs": [
        {
          "name": "stdout",
          "output_type": "stream",
          "text": [
            "True\n"
          ]
        }
      ],
      "source": [
        "# Define the Vehicle class\n",
        "class Vehicle:\n",
        "    def __init__(self, name, max_speed, mileage):\n",
        "        self.name = name\n",
        "        self.max_speed = max_speed\n",
        "        self.mileage = mileage\n",
        "\n",
        "# Define the Bus class that inherits from Vehicle\n",
        "class Bus(Vehicle):\n",
        "    pass\n",
        "\n",
        "# Create an instance of Bus\n",
        "school_bus = Bus(\"School Volvo\", 180, 12)\n",
        "\n",
        "# Check if school_bus is an instance of Vehicle\n",
        "print(isinstance(school_bus, Vehicle))  # Expected output: True"
      ]
    },
    {
      "cell_type": "markdown",
      "metadata": {
        "id": "QyQ0rqyDLK8c"
      },
      "source": [
        "### Exercise Completion  \n",
        "Once you have completed all exercises:\n",
        "- Review your solutions.\n",
        "- Ensure your code is well-documented with comments explaining your logic.\n",
        "- Save your notebook for submission or further review.\n",
        "\n",
        "Happy coding! Enjoy exploring Object-Oriented Programming with Python!\n"
      ]
    }
  ],
  "metadata": {
    "colab": {
      "provenance": []
    },
    "kernelspec": {
      "display_name": "Python 3",
      "language": "python",
      "name": "python3"
    },
    "language_info": {
      "codemirror_mode": {
        "name": "ipython",
        "version": 3
      },
      "file_extension": ".py",
      "mimetype": "text/x-python",
      "name": "python",
      "nbconvert_exporter": "python",
      "pygments_lexer": "ipython3",
      "version": "3.11.9"
    }
  },
  "nbformat": 4,
  "nbformat_minor": 0
}
